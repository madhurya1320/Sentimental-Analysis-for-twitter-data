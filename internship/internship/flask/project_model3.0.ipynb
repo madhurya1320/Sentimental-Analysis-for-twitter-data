{
 "cells": [
  {
   "cell_type": "markdown",
   "metadata": {},
   "source": [
    "# Importing dataset"
   ]
  },
  {
   "cell_type": "code",
   "execution_count": 1,
   "metadata": {},
   "outputs": [
    {
     "name": "stderr",
     "output_type": "stream",
     "text": [
      "[nltk_data] Downloading package stopwords to\n",
      "[nltk_data]     C:\\Users\\91738\\AppData\\Roaming\\nltk_data...\n",
      "[nltk_data]   Package stopwords is already up-to-date!\n"
     ]
    }
   ],
   "source": [
    "import pandas as pd\n",
    "import matplotlib.pyplot as plt\n",
    "import pickle\n",
    "#cleaning text data\n",
    "import nltk\n",
    "import numpy as np\n",
    "import re #regular expressions(rmeoving fullstops etc)\n",
    "nltk.download('stopwords')\n",
    "from nltk.corpus import stopwords\n",
    "from nltk.stem.porter import PorterStemmer"
   ]
  },
  {
   "cell_type": "code",
   "execution_count": 2,
   "metadata": {},
   "outputs": [],
   "source": [
    "dataset= pd.read_csv('train.csv',encoding = \"ISO-8859-1\",nrows=7000)\n",
    "#dataset.drop([\"date\",\"day\",\"topic\",\"name\"], axis = 1,inplace=True)"
   ]
  },
  {
   "cell_type": "code",
   "execution_count": 3,
   "metadata": {},
   "outputs": [],
   "source": [
    "#dataset.drop(dataset[dataset['sentiment'] ==2].index, inplace = True)"
   ]
  },
  {
   "cell_type": "code",
   "execution_count": 4,
   "metadata": {},
   "outputs": [],
   "source": [
    "#dataset.sentiment =dataset.sentiment.replace(4,1)"
   ]
  },
  {
   "cell_type": "markdown",
   "metadata": {},
   "source": [
    "# removing punctuation and number"
   ]
  },
  {
   "cell_type": "code",
   "execution_count": 5,
   "metadata": {},
   "outputs": [],
   "source": [
    "def preprocess_tweet(tweet):\n",
    "    #Preprocess the text in a single tweet\n",
    "    #arguments: tweet = a single tweet in form of string \n",
    "    #convert the tweet to lower case\n",
    "    tweet.lower()\n",
    "    #convert all urls to sting \"URL\"\n",
    "    tweet= re.sub('[^a-zA-Z]',' ',tweet)\n",
    "    tweet = re.sub('((www\\.[^\\s]+)|(https?://[^\\s]+))','URL',tweet)\n",
    "    #convert all @username to \"AT_USER\"\n",
    "    tweet = re.sub('@[^\\s]+','AT_USER', tweet)\n",
    "    #correct all multiple white spaces to a single white space\n",
    "    tweet = re.sub('[\\s]+', ' ', tweet)\n",
    "    #convert \"#topic\" to just \"topic\"\n",
    "    tweet = re.sub(r'#([^\\s]+)', r'\\1', tweet)\n",
    "    return tweet\n",
    "dataset['text'] = dataset['text'].apply(preprocess_tweet)"
   ]
  },
  {
   "cell_type": "code",
   "execution_count": 6,
   "metadata": {},
   "outputs": [],
   "source": [
    "c=[]\n",
    "for i in range(0,7000):\n",
    "    review1= re.sub('[^a-zA-Z]',' ',dataset['text'].iloc[i])\n",
    "    #cover it as lower case\n",
    "    review1=review1.split()#splits words and forms as list\n",
    "    ps= PorterStemmer()\n",
    "    review1=[ps.stem(word) for word in review1 if not word in set(stopwords.words('english'))]\n",
    "    review1=' '.join(review1)\n",
    "    c.append(review1)\n",
    "#print(c)"
   ]
  },
  {
   "cell_type": "code",
   "execution_count": 7,
   "metadata": {},
   "outputs": [],
   "source": [
    "#creating a bag of words model\n",
    "\n",
    "from  sklearn.feature_extraction.text import CountVectorizer\n",
    "cv= CountVectorizer(max_features=3000)\n",
    "x= cv.fit_transform(c).toarray()\n",
    "y= dataset.iloc[:,0:1].values"
   ]
  },
  {
   "cell_type": "code",
   "execution_count": 8,
   "metadata": {},
   "outputs": [],
   "source": [
    "from sklearn.model_selection import train_test_split\n",
    "x_train,x_test,y_train,y_test=train_test_split(x,y,test_size=0.3,random_state=0)\n",
    "pickle.dump(cv.vocabulary_,open(\"cf.pkl\",\"wb\"))"
   ]
  },
  {
   "cell_type": "markdown",
   "metadata": {},
   "source": [
    "# importing libraries for the model"
   ]
  },
  {
   "cell_type": "code",
   "execution_count": 9,
   "metadata": {
    "scrolled": true
   },
   "outputs": [
    {
     "name": "stderr",
     "output_type": "stream",
     "text": [
      "Using TensorFlow backend.\n",
      "C:\\Users\\91738\\anaconda3\\lib\\site-packages\\tensorflow\\python\\framework\\dtypes.py:516: FutureWarning: Passing (type, 1) or '1type' as a synonym of type is deprecated; in a future version of numpy, it will be understood as (type, (1,)) / '(1,)type'.\n",
      "  _np_qint8 = np.dtype([(\"qint8\", np.int8, 1)])\n",
      "C:\\Users\\91738\\anaconda3\\lib\\site-packages\\tensorflow\\python\\framework\\dtypes.py:517: FutureWarning: Passing (type, 1) or '1type' as a synonym of type is deprecated; in a future version of numpy, it will be understood as (type, (1,)) / '(1,)type'.\n",
      "  _np_quint8 = np.dtype([(\"quint8\", np.uint8, 1)])\n",
      "C:\\Users\\91738\\anaconda3\\lib\\site-packages\\tensorflow\\python\\framework\\dtypes.py:518: FutureWarning: Passing (type, 1) or '1type' as a synonym of type is deprecated; in a future version of numpy, it will be understood as (type, (1,)) / '(1,)type'.\n",
      "  _np_qint16 = np.dtype([(\"qint16\", np.int16, 1)])\n",
      "C:\\Users\\91738\\anaconda3\\lib\\site-packages\\tensorflow\\python\\framework\\dtypes.py:519: FutureWarning: Passing (type, 1) or '1type' as a synonym of type is deprecated; in a future version of numpy, it will be understood as (type, (1,)) / '(1,)type'.\n",
      "  _np_quint16 = np.dtype([(\"quint16\", np.uint16, 1)])\n",
      "C:\\Users\\91738\\anaconda3\\lib\\site-packages\\tensorflow\\python\\framework\\dtypes.py:520: FutureWarning: Passing (type, 1) or '1type' as a synonym of type is deprecated; in a future version of numpy, it will be understood as (type, (1,)) / '(1,)type'.\n",
      "  _np_qint32 = np.dtype([(\"qint32\", np.int32, 1)])\n",
      "C:\\Users\\91738\\anaconda3\\lib\\site-packages\\tensorflow\\python\\framework\\dtypes.py:525: FutureWarning: Passing (type, 1) or '1type' as a synonym of type is deprecated; in a future version of numpy, it will be understood as (type, (1,)) / '(1,)type'.\n",
      "  np_resource = np.dtype([(\"resource\", np.ubyte, 1)])\n",
      "C:\\Users\\91738\\anaconda3\\lib\\site-packages\\tensorboard\\compat\\tensorflow_stub\\dtypes.py:541: FutureWarning: Passing (type, 1) or '1type' as a synonym of type is deprecated; in a future version of numpy, it will be understood as (type, (1,)) / '(1,)type'.\n",
      "  _np_qint8 = np.dtype([(\"qint8\", np.int8, 1)])\n",
      "C:\\Users\\91738\\anaconda3\\lib\\site-packages\\tensorboard\\compat\\tensorflow_stub\\dtypes.py:542: FutureWarning: Passing (type, 1) or '1type' as a synonym of type is deprecated; in a future version of numpy, it will be understood as (type, (1,)) / '(1,)type'.\n",
      "  _np_quint8 = np.dtype([(\"quint8\", np.uint8, 1)])\n",
      "C:\\Users\\91738\\anaconda3\\lib\\site-packages\\tensorboard\\compat\\tensorflow_stub\\dtypes.py:543: FutureWarning: Passing (type, 1) or '1type' as a synonym of type is deprecated; in a future version of numpy, it will be understood as (type, (1,)) / '(1,)type'.\n",
      "  _np_qint16 = np.dtype([(\"qint16\", np.int16, 1)])\n",
      "C:\\Users\\91738\\anaconda3\\lib\\site-packages\\tensorboard\\compat\\tensorflow_stub\\dtypes.py:544: FutureWarning: Passing (type, 1) or '1type' as a synonym of type is deprecated; in a future version of numpy, it will be understood as (type, (1,)) / '(1,)type'.\n",
      "  _np_quint16 = np.dtype([(\"quint16\", np.uint16, 1)])\n",
      "C:\\Users\\91738\\anaconda3\\lib\\site-packages\\tensorboard\\compat\\tensorflow_stub\\dtypes.py:545: FutureWarning: Passing (type, 1) or '1type' as a synonym of type is deprecated; in a future version of numpy, it will be understood as (type, (1,)) / '(1,)type'.\n",
      "  _np_qint32 = np.dtype([(\"qint32\", np.int32, 1)])\n",
      "C:\\Users\\91738\\anaconda3\\lib\\site-packages\\tensorboard\\compat\\tensorflow_stub\\dtypes.py:550: FutureWarning: Passing (type, 1) or '1type' as a synonym of type is deprecated; in a future version of numpy, it will be understood as (type, (1,)) / '(1,)type'.\n",
      "  np_resource = np.dtype([(\"resource\", np.ubyte, 1)])\n"
     ]
    }
   ],
   "source": [
    "from keras.models import Sequential\n",
    "from keras.layers import Dense\n",
    "model=Sequential()"
   ]
  },
  {
   "cell_type": "markdown",
   "metadata": {},
   "source": [
    "# Adding Input layer"
   ]
  },
  {
   "cell_type": "code",
   "execution_count": 10,
   "metadata": {},
   "outputs": [
    {
     "name": "stderr",
     "output_type": "stream",
     "text": [
      "C:\\Users\\91738\\anaconda3\\lib\\site-packages\\ipykernel_launcher.py:1: UserWarning: Update your `Dense` call to the Keras 2 API: `Dense(input_dim=3000, activation=\"sigmoid\", units=100, kernel_initializer=\"random_uniform\")`\n",
      "  \"\"\"Entry point for launching an IPython kernel.\n"
     ]
    }
   ],
   "source": [
    "model.add(Dense(input_dim=x.shape[1],init=\"random_uniform\",activation=\"sigmoid\",output_dim=100))\n"
   ]
  },
  {
   "cell_type": "markdown",
   "metadata": {},
   "source": [
    "# Adding hidden layer"
   ]
  },
  {
   "cell_type": "code",
   "execution_count": 11,
   "metadata": {},
   "outputs": [
    {
     "name": "stderr",
     "output_type": "stream",
     "text": [
      "C:\\Users\\91738\\anaconda3\\lib\\site-packages\\ipykernel_launcher.py:1: UserWarning: Update your `Dense` call to the Keras 2 API: `Dense(activation=\"sigmoid\", units=20, kernel_initializer=\"random_uniform\")`\n",
      "  \"\"\"Entry point for launching an IPython kernel.\n"
     ]
    }
   ],
   "source": [
    "model.add(Dense(init=\"random_uniform\",activation=\"sigmoid\",output_dim=20))\n"
   ]
  },
  {
   "cell_type": "markdown",
   "metadata": {},
   "source": [
    "# Adding output layer"
   ]
  },
  {
   "cell_type": "code",
   "execution_count": 12,
   "metadata": {},
   "outputs": [
    {
     "name": "stderr",
     "output_type": "stream",
     "text": [
      "C:\\Users\\91738\\anaconda3\\lib\\site-packages\\ipykernel_launcher.py:1: UserWarning: Update your `Dense` call to the Keras 2 API: `Dense(activation=\"sigmoid\", units=1, kernel_initializer=\"random_uniform\")`\n",
      "  \"\"\"Entry point for launching an IPython kernel.\n"
     ]
    }
   ],
   "source": [
    "model.add(Dense(output_dim=1,init='random_uniform',activation='sigmoid'))\n"
   ]
  },
  {
   "cell_type": "markdown",
   "metadata": {},
   "source": [
    "# configure the learning process"
   ]
  },
  {
   "cell_type": "code",
   "execution_count": 13,
   "metadata": {},
   "outputs": [
    {
     "name": "stdout",
     "output_type": "stream",
     "text": [
      "WARNING:tensorflow:From C:\\Users\\91738\\anaconda3\\lib\\site-packages\\tensorflow\\python\\ops\\nn_impl.py:180: add_dispatch_support.<locals>.wrapper (from tensorflow.python.ops.array_ops) is deprecated and will be removed in a future version.\n",
      "Instructions for updating:\n",
      "Use tf.where in 2.0, which has the same broadcast rule as np.where\n"
     ]
    }
   ],
   "source": [
    "model.compile(optimizer='adam',loss='binary_crossentropy',metrics=['accuracy'])\n",
    "#optimizing model"
   ]
  },
  {
   "cell_type": "code",
   "execution_count": 14,
   "metadata": {
    "scrolled": false
   },
   "outputs": [
    {
     "name": "stdout",
     "output_type": "stream",
     "text": [
      "WARNING:tensorflow:From C:\\Users\\91738\\anaconda3\\lib\\site-packages\\keras\\backend\\tensorflow_backend.py:422: The name tf.global_variables is deprecated. Please use tf.compat.v1.global_variables instead.\n",
      "\n",
      "Epoch 1/50\n",
      "4900/4900 [==============================] - 0s 90us/step - loss: 0.6680 - accuracy: 0.6324\n",
      "Epoch 2/50\n",
      "4900/4900 [==============================] - 0s 53us/step - loss: 0.6572 - accuracy: 0.6324\n",
      "Epoch 3/50\n",
      "4900/4900 [==============================] - 0s 54us/step - loss: 0.6556 - accuracy: 0.6324\n",
      "Epoch 4/50\n",
      "4900/4900 [==============================] - 0s 53us/step - loss: 0.6536 - accuracy: 0.6324\n",
      "Epoch 5/50\n",
      "4900/4900 [==============================] - 0s 53us/step - loss: 0.6514 - accuracy: 0.6324\n",
      "Epoch 6/50\n",
      "4900/4900 [==============================] - 0s 53us/step - loss: 0.6480 - accuracy: 0.6324\n",
      "Epoch 7/50\n",
      "4900/4900 [==============================] - 0s 53us/step - loss: 0.6428 - accuracy: 0.6324\n",
      "Epoch 8/50\n",
      "4900/4900 [==============================] - 0s 52us/step - loss: 0.6338 - accuracy: 0.6324\n",
      "Epoch 9/50\n",
      "4900/4900 [==============================] - 0s 52us/step - loss: 0.6174 - accuracy: 0.6343\n",
      "Epoch 10/50\n",
      "4900/4900 [==============================] - 0s 52us/step - loss: 0.5800 - accuracy: 0.6733\n",
      "Epoch 11/50\n",
      "4900/4900 [==============================] - 0s 54us/step - loss: 0.5124 - accuracy: 0.7688\n",
      "Epoch 12/50\n",
      "4900/4900 [==============================] - 0s 54us/step - loss: 0.4389 - accuracy: 0.8320\n",
      "Epoch 13/50\n",
      "4900/4900 [==============================] - 0s 52us/step - loss: 0.3802 - accuracy: 0.8559\n",
      "Epoch 14/50\n",
      "4900/4900 [==============================] - 0s 52us/step - loss: 0.3393 - accuracy: 0.8765\n",
      "Epoch 15/50\n",
      "4900/4900 [==============================] - 0s 53us/step - loss: 0.3098 - accuracy: 0.8880\n",
      "Epoch 16/50\n",
      "4900/4900 [==============================] - 0s 52us/step - loss: 0.2872 - accuracy: 0.8976\n",
      "Epoch 17/50\n",
      "4900/4900 [==============================] - 0s 52us/step - loss: 0.2681 - accuracy: 0.9059\n",
      "Epoch 18/50\n",
      "4900/4900 [==============================] - 0s 53us/step - loss: 0.2532 - accuracy: 0.9112\n",
      "Epoch 19/50\n",
      "4900/4900 [==============================] - 0s 52us/step - loss: 0.2411 - accuracy: 0.9159\n",
      "Epoch 20/50\n",
      "4900/4900 [==============================] - 0s 53us/step - loss: 0.2283 - accuracy: 0.9220\n",
      "Epoch 21/50\n",
      "4900/4900 [==============================] - 0s 52us/step - loss: 0.2184 - accuracy: 0.9263\n",
      "Epoch 22/50\n",
      "4900/4900 [==============================] - 0s 53us/step - loss: 0.2090 - accuracy: 0.9298\n",
      "Epoch 23/50\n",
      "4900/4900 [==============================] - 0s 53us/step - loss: 0.2007 - accuracy: 0.9318\n",
      "Epoch 24/50\n",
      "4900/4900 [==============================] - 0s 52us/step - loss: 0.1939 - accuracy: 0.9347\n",
      "Epoch 25/50\n",
      "4900/4900 [==============================] - 0s 52us/step - loss: 0.1870 - accuracy: 0.9361\n",
      "Epoch 26/50\n",
      "4900/4900 [==============================] - 0s 53us/step - loss: 0.1803 - accuracy: 0.9386\n",
      "Epoch 27/50\n",
      "4900/4900 [==============================] - 0s 52us/step - loss: 0.1741 - accuracy: 0.9406\n",
      "Epoch 28/50\n",
      "4900/4900 [==============================] - 0s 53us/step - loss: 0.1690 - accuracy: 0.9431\n",
      "Epoch 29/50\n",
      "4900/4900 [==============================] - 0s 52us/step - loss: 0.1641 - accuracy: 0.9455\n",
      "Epoch 30/50\n",
      "4900/4900 [==============================] - 0s 52us/step - loss: 0.1601 - accuracy: 0.9471\n",
      "Epoch 31/50\n",
      "4900/4900 [==============================] - 0s 52us/step - loss: 0.1564 - accuracy: 0.9469\n",
      "Epoch 32/50\n",
      "4900/4900 [==============================] - 0s 52us/step - loss: 0.1515 - accuracy: 0.9494\n",
      "Epoch 33/50\n",
      "4900/4900 [==============================] - 0s 52us/step - loss: 0.1479 - accuracy: 0.9502\n",
      "Epoch 34/50\n",
      "4900/4900 [==============================] - 0s 53us/step - loss: 0.1445 - accuracy: 0.9529\n",
      "Epoch 35/50\n",
      "4900/4900 [==============================] - 0s 52us/step - loss: 0.1417 - accuracy: 0.9537\n",
      "Epoch 36/50\n",
      "4900/4900 [==============================] - 0s 52us/step - loss: 0.1394 - accuracy: 0.9553\n",
      "Epoch 37/50\n",
      "4900/4900 [==============================] - 0s 51us/step - loss: 0.1357 - accuracy: 0.9557\n",
      "Epoch 38/50\n",
      "4900/4900 [==============================] - 0s 50us/step - loss: 0.1332 - accuracy: 0.9573\n",
      "Epoch 39/50\n",
      "4900/4900 [==============================] - 0s 51us/step - loss: 0.1307 - accuracy: 0.9571\n",
      "Epoch 40/50\n",
      "4900/4900 [==============================] - 0s 51us/step - loss: 0.1281 - accuracy: 0.9586\n",
      "Epoch 41/50\n",
      "4900/4900 [==============================] - 0s 51us/step - loss: 0.1264 - accuracy: 0.9594\n",
      "Epoch 42/50\n",
      "4900/4900 [==============================] - 0s 57us/step - loss: 0.1241 - accuracy: 0.9594\n",
      "Epoch 43/50\n",
      "4900/4900 [==============================] - 0s 53us/step - loss: 0.1224 - accuracy: 0.9616\n",
      "Epoch 44/50\n",
      "4900/4900 [==============================] - 0s 51us/step - loss: 0.1202 - accuracy: 0.9622\n",
      "Epoch 45/50\n",
      "4900/4900 [==============================] - 0s 51us/step - loss: 0.1183 - accuracy: 0.9624\n",
      "Epoch 46/50\n",
      "4900/4900 [==============================] - 0s 52us/step - loss: 0.1173 - accuracy: 0.9633\n",
      "Epoch 47/50\n",
      "4900/4900 [==============================] - 0s 51us/step - loss: 0.1154 - accuracy: 0.9631\n",
      "Epoch 48/50\n",
      "4900/4900 [==============================] - 0s 52us/step - loss: 0.1136 - accuracy: 0.9643\n",
      "Epoch 49/50\n",
      "4900/4900 [==============================] - 0s 52us/step - loss: 0.1122 - accuracy: 0.9637\n",
      "Epoch 50/50\n",
      "4900/4900 [==============================] - 0s 52us/step - loss: 0.1108 - accuracy: 0.9649\n"
     ]
    }
   ],
   "source": [
    "model.fit(x_train,y_train,epochs=50,batch_size=130)\n",
    "y_pred=model.predict(x_test)\n",
    "#print(x_test)\n",
    "y_pred=(y_pred>0.5)\n",
    "model.save('final1.h5')"
   ]
  },
  {
   "cell_type": "markdown",
   "metadata": {},
   "source": [
    "# confusion matrix for accuracy"
   ]
  },
  {
   "cell_type": "code",
   "execution_count": 17,
   "metadata": {},
   "outputs": [],
   "source": [
    "#confusion matrix\n",
    "#accuracy\n",
    "from sklearn.metrics import confusion_matrix\n",
    "cm = confusion_matrix(y_test, y_pred)\n",
    "from sklearn.metrics import accuracy_score\n",
    "accuracy_score(y_test, y_pred)\n",
    "loaded_vec =CountVectorizer(decode_error=\"replace\",vocabulary=pickle.load(open(\"cf.pkl\", \"rb\")))\n",
    "da=\"\"\n",
    "da=da.split(\"delimiter\")\n",
    "result= model.predict(loaded_vec.transform(da))\n"
   ]
  },
  {
   "cell_type": "markdown",
   "metadata": {},
   "source": [
    "# own prediction"
   ]
  },
  {
   "cell_type": "code",
   "execution_count": 16,
   "metadata": {},
   "outputs": [
    {
     "name": "stdout",
     "output_type": "stream",
     "text": [
      "first predicton [[0.00763537]]\n"
     ]
    }
   ],
   "source": [
    "r=model.predict(cv.transform([\"hate\"]))\n",
    "print(\"first predicton\",r)"
   ]
  },
  {
   "cell_type": "code",
   "execution_count": null,
   "metadata": {},
   "outputs": [],
   "source": []
  },
  {
   "cell_type": "code",
   "execution_count": null,
   "metadata": {},
   "outputs": [],
   "source": []
  }
 ],
 "metadata": {
  "kernelspec": {
   "display_name": "Python 3",
   "language": "python",
   "name": "python3"
  },
  "language_info": {
   "codemirror_mode": {
    "name": "ipython",
    "version": 3
   },
   "file_extension": ".py",
   "mimetype": "text/x-python",
   "name": "python",
   "nbconvert_exporter": "python",
   "pygments_lexer": "ipython3",
   "version": "3.6.10"
  }
 },
 "nbformat": 4,
 "nbformat_minor": 4
}
