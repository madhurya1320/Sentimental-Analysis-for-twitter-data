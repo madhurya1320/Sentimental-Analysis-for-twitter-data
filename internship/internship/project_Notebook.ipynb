{
 "cells": [
  {
   "cell_type": "markdown",
   "metadata": {},
   "source": [
    "# prepocessing"
   ]
  },
  {
   "cell_type": "code",
   "execution_count": 1,
   "metadata": {
    "scrolled": true
   },
   "outputs": [
    {
     "name": "stderr",
     "output_type": "stream",
     "text": [
      "[nltk_data] Downloading package stopwords to\n",
      "[nltk_data]     C:\\Users\\91738\\AppData\\Roaming\\nltk_data...\n",
      "[nltk_data]   Package stopwords is already up-to-date!\n"
     ]
    }
   ],
   "source": [
    "import pandas as pd\n",
    "import matplotlib.pyplot as plt\n",
    "import pickle\n",
    "#cleaning text data\n",
    "import nltk\n",
    "import numpy as np\n",
    "import re #regular expressions(rmeoving fullstops etc)\n",
    "nltk.download('stopwords')\n",
    "from nltk.corpus import stopwords\n",
    "from nltk.stem.porter import PorterStemmer"
   ]
  },
  {
   "cell_type": "code",
   "execution_count": 2,
   "metadata": {},
   "outputs": [
    {
     "data": {
      "text/html": [
       "<div>\n",
       "<style scoped>\n",
       "    .dataframe tbody tr th:only-of-type {\n",
       "        vertical-align: middle;\n",
       "    }\n",
       "\n",
       "    .dataframe tbody tr th {\n",
       "        vertical-align: top;\n",
       "    }\n",
       "\n",
       "    .dataframe thead th {\n",
       "        text-align: right;\n",
       "    }\n",
       "</style>\n",
       "<table border=\"1\" class=\"dataframe\">\n",
       "  <thead>\n",
       "    <tr style=\"text-align: right;\">\n",
       "      <th></th>\n",
       "      <th>sentiment</th>\n",
       "      <th>text</th>\n",
       "    </tr>\n",
       "  </thead>\n",
       "  <tbody>\n",
       "    <tr>\n",
       "      <th>0</th>\n",
       "      <td>0</td>\n",
       "      <td>is so sad for my APL frie...</td>\n",
       "    </tr>\n",
       "    <tr>\n",
       "      <th>1</th>\n",
       "      <td>0</td>\n",
       "      <td>I missed the New Moon trail...</td>\n",
       "    </tr>\n",
       "    <tr>\n",
       "      <th>2</th>\n",
       "      <td>1</td>\n",
       "      <td>omg its already 7:30 :O</td>\n",
       "    </tr>\n",
       "    <tr>\n",
       "      <th>3</th>\n",
       "      <td>0</td>\n",
       "      <td>.. Omgaga. Im sooo  im gunna CRy. I'...</td>\n",
       "    </tr>\n",
       "    <tr>\n",
       "      <th>4</th>\n",
       "      <td>0</td>\n",
       "      <td>i think mi bf is cheating on me!!!   ...</td>\n",
       "    </tr>\n",
       "    <tr>\n",
       "      <th>...</th>\n",
       "      <td>...</td>\n",
       "      <td>...</td>\n",
       "    </tr>\n",
       "    <tr>\n",
       "      <th>8995</th>\n",
       "      <td>0</td>\n",
       "      <td>&amp;quot;#WikiLeaks is overloaded by global inter...</td>\n",
       "    </tr>\n",
       "    <tr>\n",
       "      <th>8996</th>\n",
       "      <td>0</td>\n",
       "      <td>&amp;quot;&amp;lt; monica&amp;gt; tenk pÃÂ¥ Neophos, da &amp;...</td>\n",
       "    </tr>\n",
       "    <tr>\n",
       "      <th>8997</th>\n",
       "      <td>0</td>\n",
       "      <td>&amp;quot;&amp;quot;Doing some work&amp;quot;&amp;quot; Facebo...</td>\n",
       "    </tr>\n",
       "    <tr>\n",
       "      <th>8998</th>\n",
       "      <td>1</td>\n",
       "      <td>&amp;quot;&amp;quot;I'm really glad you're in my life....</td>\n",
       "    </tr>\n",
       "    <tr>\n",
       "      <th>8999</th>\n",
       "      <td>1</td>\n",
       "      <td>&amp;quot;...begging, begging you ooh ooh ooh...&amp;q...</td>\n",
       "    </tr>\n",
       "  </tbody>\n",
       "</table>\n",
       "<p>9000 rows × 2 columns</p>\n",
       "</div>"
      ],
      "text/plain": [
       "      sentiment                                               text\n",
       "0             0                       is so sad for my APL frie...\n",
       "1             0                     I missed the New Moon trail...\n",
       "2             1                            omg its already 7:30 :O\n",
       "3             0            .. Omgaga. Im sooo  im gunna CRy. I'...\n",
       "4             0           i think mi bf is cheating on me!!!   ...\n",
       "...         ...                                                ...\n",
       "8995          0  &quot;#WikiLeaks is overloaded by global inter...\n",
       "8996          0  &quot;&lt; monica&gt; tenk pÃÂ¥ Neophos, da &...\n",
       "8997          0  &quot;&quot;Doing some work&quot;&quot; Facebo...\n",
       "8998          1  &quot;&quot;I'm really glad you're in my life....\n",
       "8999          1  &quot;...begging, begging you ooh ooh ooh...&q...\n",
       "\n",
       "[9000 rows x 2 columns]"
      ]
     },
     "execution_count": 2,
     "metadata": {},
     "output_type": "execute_result"
    }
   ],
   "source": [
    "dataset= pd.read_csv('train.csv',encoding = \"ISO-8859-1\",nrows=9000)\n",
    "dataset"
   ]
  },
  {
   "cell_type": "markdown",
   "metadata": {},
   "source": [
    "# removing punctuation and number"
   ]
  },
  {
   "cell_type": "code",
   "execution_count": 3,
   "metadata": {},
   "outputs": [],
   "source": [
    "def preprocess_tweet(tweet):\n",
    "    #Preprocess the text in a single tweet\n",
    "    #arguments: tweet = a single tweet in form of string \n",
    "    #convert the tweet to lower case\n",
    "    tweet.lower()\n",
    "    #convert all urls to sting \"URL\"\n",
    "    tweet= re.sub('[^a-zA-Z]',' ',tweet)\n",
    "    tweet = re.sub('((www\\.[^\\s]+)|(https?://[^\\s]+))','URL',tweet)\n",
    "    #convert all @username to \"AT_USER\"\n",
    "    tweet = re.sub('@[^\\s]+','AT_USER', tweet)\n",
    "    #correct all multiple white spaces to a single white space\n",
    "    tweet = re.sub('[\\s]+', ' ', tweet)\n",
    "    #convert \"#topic\" to just \"topic\"\n",
    "    tweet = re.sub(r'#([^\\s]+)', r'\\1', tweet)\n",
    "    return tweet\n",
    "dataset['text'] = dataset['text'].apply(preprocess_tweet)"
   ]
  },
  {
   "cell_type": "markdown",
   "metadata": {},
   "source": [
    "# Stemming"
   ]
  },
  {
   "cell_type": "code",
   "execution_count": 4,
   "metadata": {},
   "outputs": [],
   "source": [
    "c=[]\n",
    "for i in range(0,9000):\n",
    "    review1= re.sub('[^a-zA-Z]',' ',dataset['text'].iloc[i])\n",
    "    #cover it as lower case\n",
    "    review1=review1.split()#splits words and forms as list\n",
    "    ps= PorterStemmer()\n",
    "    review1=[ps.stem(word) for word in review1 if not word in set(stopwords.words('english'))]\n",
    "    review1=' '.join(review1)\n",
    "    c.append(review1)"
   ]
  },
  {
   "cell_type": "code",
   "execution_count": 5,
   "metadata": {},
   "outputs": [],
   "source": [
    "#creating a bag of words model\n",
    "\n",
    "from  sklearn.feature_extraction.text import CountVectorizer\n",
    "cv= CountVectorizer(max_features=15000)\n",
    "x= cv.fit_transform(c).toarray()\n",
    "y= dataset.iloc[:,0:1].values"
   ]
  },
  {
   "cell_type": "markdown",
   "metadata": {},
   "source": [
    "# splitting into training and testing data"
   ]
  },
  {
   "cell_type": "code",
   "execution_count": 6,
   "metadata": {},
   "outputs": [],
   "source": [
    "from sklearn.model_selection import train_test_split\n",
    "x_train,x_test,y_train,y_test=train_test_split(x,y,test_size=0.3,random_state=0)\n",
    "pickle.dump(cv.vocabulary_,open(\"cf19.pkl\",\"wb\"))"
   ]
  },
  {
   "cell_type": "markdown",
   "metadata": {},
   "source": [
    "# importing libraries for the model"
   ]
  },
  {
   "cell_type": "code",
   "execution_count": 7,
   "metadata": {
    "scrolled": true
   },
   "outputs": [
    {
     "name": "stderr",
     "output_type": "stream",
     "text": [
      "Using TensorFlow backend.\n",
      "C:\\Users\\91738\\anaconda3\\lib\\site-packages\\tensorflow\\python\\framework\\dtypes.py:516: FutureWarning: Passing (type, 1) or '1type' as a synonym of type is deprecated; in a future version of numpy, it will be understood as (type, (1,)) / '(1,)type'.\n",
      "  _np_qint8 = np.dtype([(\"qint8\", np.int8, 1)])\n",
      "C:\\Users\\91738\\anaconda3\\lib\\site-packages\\tensorflow\\python\\framework\\dtypes.py:517: FutureWarning: Passing (type, 1) or '1type' as a synonym of type is deprecated; in a future version of numpy, it will be understood as (type, (1,)) / '(1,)type'.\n",
      "  _np_quint8 = np.dtype([(\"quint8\", np.uint8, 1)])\n",
      "C:\\Users\\91738\\anaconda3\\lib\\site-packages\\tensorflow\\python\\framework\\dtypes.py:518: FutureWarning: Passing (type, 1) or '1type' as a synonym of type is deprecated; in a future version of numpy, it will be understood as (type, (1,)) / '(1,)type'.\n",
      "  _np_qint16 = np.dtype([(\"qint16\", np.int16, 1)])\n",
      "C:\\Users\\91738\\anaconda3\\lib\\site-packages\\tensorflow\\python\\framework\\dtypes.py:519: FutureWarning: Passing (type, 1) or '1type' as a synonym of type is deprecated; in a future version of numpy, it will be understood as (type, (1,)) / '(1,)type'.\n",
      "  _np_quint16 = np.dtype([(\"quint16\", np.uint16, 1)])\n",
      "C:\\Users\\91738\\anaconda3\\lib\\site-packages\\tensorflow\\python\\framework\\dtypes.py:520: FutureWarning: Passing (type, 1) or '1type' as a synonym of type is deprecated; in a future version of numpy, it will be understood as (type, (1,)) / '(1,)type'.\n",
      "  _np_qint32 = np.dtype([(\"qint32\", np.int32, 1)])\n",
      "C:\\Users\\91738\\anaconda3\\lib\\site-packages\\tensorflow\\python\\framework\\dtypes.py:525: FutureWarning: Passing (type, 1) or '1type' as a synonym of type is deprecated; in a future version of numpy, it will be understood as (type, (1,)) / '(1,)type'.\n",
      "  np_resource = np.dtype([(\"resource\", np.ubyte, 1)])\n",
      "C:\\Users\\91738\\anaconda3\\lib\\site-packages\\tensorboard\\compat\\tensorflow_stub\\dtypes.py:541: FutureWarning: Passing (type, 1) or '1type' as a synonym of type is deprecated; in a future version of numpy, it will be understood as (type, (1,)) / '(1,)type'.\n",
      "  _np_qint8 = np.dtype([(\"qint8\", np.int8, 1)])\n",
      "C:\\Users\\91738\\anaconda3\\lib\\site-packages\\tensorboard\\compat\\tensorflow_stub\\dtypes.py:542: FutureWarning: Passing (type, 1) or '1type' as a synonym of type is deprecated; in a future version of numpy, it will be understood as (type, (1,)) / '(1,)type'.\n",
      "  _np_quint8 = np.dtype([(\"quint8\", np.uint8, 1)])\n",
      "C:\\Users\\91738\\anaconda3\\lib\\site-packages\\tensorboard\\compat\\tensorflow_stub\\dtypes.py:543: FutureWarning: Passing (type, 1) or '1type' as a synonym of type is deprecated; in a future version of numpy, it will be understood as (type, (1,)) / '(1,)type'.\n",
      "  _np_qint16 = np.dtype([(\"qint16\", np.int16, 1)])\n",
      "C:\\Users\\91738\\anaconda3\\lib\\site-packages\\tensorboard\\compat\\tensorflow_stub\\dtypes.py:544: FutureWarning: Passing (type, 1) or '1type' as a synonym of type is deprecated; in a future version of numpy, it will be understood as (type, (1,)) / '(1,)type'.\n",
      "  _np_quint16 = np.dtype([(\"quint16\", np.uint16, 1)])\n",
      "C:\\Users\\91738\\anaconda3\\lib\\site-packages\\tensorboard\\compat\\tensorflow_stub\\dtypes.py:545: FutureWarning: Passing (type, 1) or '1type' as a synonym of type is deprecated; in a future version of numpy, it will be understood as (type, (1,)) / '(1,)type'.\n",
      "  _np_qint32 = np.dtype([(\"qint32\", np.int32, 1)])\n",
      "C:\\Users\\91738\\anaconda3\\lib\\site-packages\\tensorboard\\compat\\tensorflow_stub\\dtypes.py:550: FutureWarning: Passing (type, 1) or '1type' as a synonym of type is deprecated; in a future version of numpy, it will be understood as (type, (1,)) / '(1,)type'.\n",
      "  np_resource = np.dtype([(\"resource\", np.ubyte, 1)])\n"
     ]
    }
   ],
   "source": [
    "from keras.models import Sequential\n",
    "from keras.layers import Dense\n",
    "model=Sequential()"
   ]
  },
  {
   "cell_type": "markdown",
   "metadata": {},
   "source": [
    "# Adding Input layer"
   ]
  },
  {
   "cell_type": "code",
   "execution_count": 8,
   "metadata": {},
   "outputs": [
    {
     "name": "stderr",
     "output_type": "stream",
     "text": [
      "C:\\Users\\91738\\anaconda3\\lib\\site-packages\\ipykernel_launcher.py:1: UserWarning: Update your `Dense` call to the Keras 2 API: `Dense(input_dim=12923, activation=\"sigmoid\", units=50, kernel_initializer=\"random_uniform\")`\n",
      "  \"\"\"Entry point for launching an IPython kernel.\n"
     ]
    }
   ],
   "source": [
    "model.add(Dense(input_dim=x.shape[1],init=\"random_uniform\",activation=\"sigmoid\",output_dim=50))\n"
   ]
  },
  {
   "cell_type": "markdown",
   "metadata": {},
   "source": [
    "# Adding hidden layer"
   ]
  },
  {
   "cell_type": "code",
   "execution_count": 9,
   "metadata": {},
   "outputs": [
    {
     "name": "stderr",
     "output_type": "stream",
     "text": [
      "C:\\Users\\91738\\anaconda3\\lib\\site-packages\\ipykernel_launcher.py:1: UserWarning: Update your `Dense` call to the Keras 2 API: `Dense(activation=\"sigmoid\", units=10, kernel_initializer=\"random_uniform\")`\n",
      "  \"\"\"Entry point for launching an IPython kernel.\n"
     ]
    }
   ],
   "source": [
    "model.add(Dense(init=\"random_uniform\",activation=\"sigmoid\",output_dim=10))\n"
   ]
  },
  {
   "cell_type": "markdown",
   "metadata": {},
   "source": [
    "# Adding output layer"
   ]
  },
  {
   "cell_type": "code",
   "execution_count": 10,
   "metadata": {},
   "outputs": [
    {
     "name": "stderr",
     "output_type": "stream",
     "text": [
      "C:\\Users\\91738\\anaconda3\\lib\\site-packages\\ipykernel_launcher.py:1: UserWarning: Update your `Dense` call to the Keras 2 API: `Dense(activation=\"sigmoid\", units=1, kernel_initializer=\"random_uniform\")`\n",
      "  \"\"\"Entry point for launching an IPython kernel.\n"
     ]
    }
   ],
   "source": [
    "model.add(Dense(output_dim=1,init='random_uniform',activation='sigmoid'))\n"
   ]
  },
  {
   "cell_type": "markdown",
   "metadata": {},
   "source": [
    "# configure the learning process and optimization"
   ]
  },
  {
   "cell_type": "code",
   "execution_count": 11,
   "metadata": {
    "scrolled": true
   },
   "outputs": [
    {
     "name": "stdout",
     "output_type": "stream",
     "text": [
      "WARNING:tensorflow:From C:\\Users\\91738\\anaconda3\\lib\\site-packages\\tensorflow\\python\\ops\\nn_impl.py:180: add_dispatch_support.<locals>.wrapper (from tensorflow.python.ops.array_ops) is deprecated and will be removed in a future version.\n",
      "Instructions for updating:\n",
      "Use tf.where in 2.0, which has the same broadcast rule as np.where\n"
     ]
    }
   ],
   "source": [
    "model.compile(optimizer='adam',loss='binary_crossentropy',metrics=['accuracy'])\n",
    "#optimizing model"
   ]
  },
  {
   "cell_type": "markdown",
   "metadata": {},
   "source": [
    "# training model"
   ]
  },
  {
   "cell_type": "code",
   "execution_count": 12,
   "metadata": {
    "scrolled": true
   },
   "outputs": [
    {
     "name": "stdout",
     "output_type": "stream",
     "text": [
      "WARNING:tensorflow:From C:\\Users\\91738\\anaconda3\\lib\\site-packages\\keras\\backend\\tensorflow_backend.py:422: The name tf.global_variables is deprecated. Please use tf.compat.v1.global_variables instead.\n",
      "\n",
      "Epoch 1/50\n",
      "6300/6300 [==============================] - 1s 212us/step - loss: 0.6746 - accuracy: 0.6048\n",
      "Epoch 2/50\n",
      "6300/6300 [==============================] - 1s 161us/step - loss: 0.6698 - accuracy: 0.6048\n",
      "Epoch 3/50\n",
      "6300/6300 [==============================] - 1s 168us/step - loss: 0.6685 - accuracy: 0.6048\n",
      "Epoch 4/50\n",
      "6300/6300 [==============================] - 1s 164us/step - loss: 0.6663 - accuracy: 0.6048\n",
      "Epoch 5/50\n",
      "6300/6300 [==============================] - 1s 160us/step - loss: 0.6635 - accuracy: 0.6048\n",
      "Epoch 6/50\n",
      "6300/6300 [==============================] - 1s 189us/step - loss: 0.6584 - accuracy: 0.6048\n",
      "Epoch 7/50\n",
      "6300/6300 [==============================] - 1s 203us/step - loss: 0.6486 - accuracy: 0.6048\n",
      "Epoch 8/50\n",
      "6300/6300 [==============================] - 1s 197us/step - loss: 0.6290 - accuracy: 0.6048\n",
      "Epoch 9/50\n",
      "6300/6300 [==============================] - 1s 168us/step - loss: 0.5949 - accuracy: 0.6198\n",
      "Epoch 10/50\n",
      "6300/6300 [==============================] - 1s 172us/step - loss: 0.5479 - accuracy: 0.6979\n",
      "Epoch 11/50\n",
      "6300/6300 [==============================] - 1s 163us/step - loss: 0.4937 - accuracy: 0.7740\n",
      "Epoch 12/50\n",
      "6300/6300 [==============================] - 1s 153us/step - loss: 0.4417 - accuracy: 0.8310\n",
      "Epoch 13/50\n",
      "6300/6300 [==============================] - 1s 169us/step - loss: 0.3957 - accuracy: 0.8644\n",
      "Epoch 14/50\n",
      "6300/6300 [==============================] - 1s 180us/step - loss: 0.3558 - accuracy: 0.8922\n",
      "Epoch 15/50\n",
      "6300/6300 [==============================] - 1s 172us/step - loss: 0.3220 - accuracy: 0.9067\n",
      "Epoch 16/50\n",
      "6300/6300 [==============================] - 1s 165us/step - loss: 0.2927 - accuracy: 0.9165\n",
      "Epoch 17/50\n",
      "6300/6300 [==============================] - 1s 173us/step - loss: 0.2677 - accuracy: 0.9276\n",
      "Epoch 18/50\n",
      "6300/6300 [==============================] - 1s 162us/step - loss: 0.2460 - accuracy: 0.9354\n",
      "Epoch 19/50\n",
      "6300/6300 [==============================] - 1s 175us/step - loss: 0.2271 - accuracy: 0.9448\n",
      "Epoch 20/50\n",
      "6300/6300 [==============================] - 1s 171us/step - loss: 0.2102 - accuracy: 0.9513\n",
      "Epoch 21/50\n",
      "6300/6300 [==============================] - 1s 164us/step - loss: 0.1953 - accuracy: 0.9549\n",
      "Epoch 22/50\n",
      "6300/6300 [==============================] - 1s 178us/step - loss: 0.1822 - accuracy: 0.9592\n",
      "Epoch 23/50\n",
      "6300/6300 [==============================] - 1s 171us/step - loss: 0.1706 - accuracy: 0.9621\n",
      "Epoch 24/50\n",
      "6300/6300 [==============================] - 1s 158us/step - loss: 0.1600 - accuracy: 0.9649\n",
      "Epoch 25/50\n",
      "6300/6300 [==============================] - 1s 161us/step - loss: 0.1504 - accuracy: 0.9689\n",
      "Epoch 26/50\n",
      "6300/6300 [==============================] - 1s 183us/step - loss: 0.1419 - accuracy: 0.96940s - loss: 0.1422 - accura\n",
      "Epoch 27/50\n",
      "6300/6300 [==============================] - 1s 176us/step - loss: 0.1344 - accuracy: 0.9719\n",
      "Epoch 28/50\n",
      "6300/6300 [==============================] - 1s 166us/step - loss: 0.1274 - accuracy: 0.9740\n",
      "Epoch 29/50\n",
      "6300/6300 [==============================] - 1s 163us/step - loss: 0.1206 - accuracy: 0.9749\n",
      "Epoch 30/50\n",
      "6300/6300 [==============================] - 1s 162us/step - loss: 0.1149 - accuracy: 0.9773\n",
      "Epoch 31/50\n",
      "6300/6300 [==============================] - 1s 175us/step - loss: 0.1093 - accuracy: 0.9781\n",
      "Epoch 32/50\n",
      "6300/6300 [==============================] - 1s 171us/step - loss: 0.1045 - accuracy: 0.9798\n",
      "Epoch 33/50\n",
      "6300/6300 [==============================] - 1s 165us/step - loss: 0.0996 - accuracy: 0.9808\n",
      "Epoch 34/50\n",
      "6300/6300 [==============================] - 1s 162us/step - loss: 0.0954 - accuracy: 0.9817\n",
      "Epoch 35/50\n",
      "6300/6300 [==============================] - 1s 174us/step - loss: 0.0915 - accuracy: 0.9829\n",
      "Epoch 36/50\n",
      "6300/6300 [==============================] - 1s 167us/step - loss: 0.0879 - accuracy: 0.9822\n",
      "Epoch 37/50\n",
      "6300/6300 [==============================] - 1s 167us/step - loss: 0.0847 - accuracy: 0.9829\n",
      "Epoch 38/50\n",
      "6300/6300 [==============================] - 1s 172us/step - loss: 0.0816 - accuracy: 0.9841\n",
      "Epoch 39/50\n",
      "6300/6300 [==============================] - 1s 172us/step - loss: 0.0785 - accuracy: 0.9838\n",
      "Epoch 40/50\n",
      "6300/6300 [==============================] - 1s 172us/step - loss: 0.0758 - accuracy: 0.9848\n",
      "Epoch 41/50\n",
      "6300/6300 [==============================] - 1s 180us/step - loss: 0.0732 - accuracy: 0.9856\n",
      "Epoch 42/50\n",
      "6300/6300 [==============================] - 1s 152us/step - loss: 0.0708 - accuracy: 0.9849\n",
      "Epoch 43/50\n",
      "6300/6300 [==============================] - 1s 157us/step - loss: 0.0684 - accuracy: 0.9863\n",
      "Epoch 44/50\n",
      "6300/6300 [==============================] - 1s 160us/step - loss: 0.0666 - accuracy: 0.9865\n",
      "Epoch 45/50\n",
      "6300/6300 [==============================] - 1s 158us/step - loss: 0.0644 - accuracy: 0.9868\n",
      "Epoch 46/50\n",
      "6300/6300 [==============================] - 1s 151us/step - loss: 0.0627 - accuracy: 0.9873\n",
      "Epoch 47/50\n",
      "6300/6300 [==============================] - 1s 153us/step - loss: 0.0607 - accuracy: 0.9879\n",
      "Epoch 48/50\n",
      "6300/6300 [==============================] - 1s 158us/step - loss: 0.0589 - accuracy: 0.9884\n",
      "Epoch 49/50\n",
      "6300/6300 [==============================] - 1s 158us/step - loss: 0.0574 - accuracy: 0.9886\n",
      "Epoch 50/50\n",
      "6300/6300 [==============================] - 1s 170us/step - loss: 0.0556 - accuracy: 0.9886\n"
     ]
    },
    {
     "data": {
      "text/plain": [
       "<keras.callbacks.callbacks.History at 0x1a5006ff828>"
      ]
     },
     "execution_count": 12,
     "metadata": {},
     "output_type": "execute_result"
    }
   ],
   "source": [
    "model.fit(x_train,y_train,epochs=50,batch_size=130)"
   ]
  },
  {
   "cell_type": "markdown",
   "metadata": {},
   "source": [
    "# Testing"
   ]
  },
  {
   "cell_type": "code",
   "execution_count": 13,
   "metadata": {},
   "outputs": [],
   "source": [
    "y_pred=model.predict(x_test)\n",
    "y_pred=(y_pred>0.5)"
   ]
  },
  {
   "cell_type": "markdown",
   "metadata": {},
   "source": [
    "# save the model"
   ]
  },
  {
   "cell_type": "code",
   "execution_count": 14,
   "metadata": {},
   "outputs": [],
   "source": [
    "model.save('final3.h5')"
   ]
  },
  {
   "cell_type": "markdown",
   "metadata": {},
   "source": [
    "# confusion matrix for accuracy"
   ]
  },
  {
   "cell_type": "code",
   "execution_count": 15,
   "metadata": {},
   "outputs": [
    {
     "name": "stdout",
     "output_type": "stream",
     "text": [
      "[[1283  399]\n",
      " [ 347  671]]\n"
     ]
    }
   ],
   "source": [
    "#confusion matrix\n",
    "#accuracy\n",
    "from sklearn.metrics import confusion_matrix\n",
    "cm = confusion_matrix(y_test, y_pred)\n",
    "print(cm)\n",
    "from sklearn.metrics import accuracy_score\n",
    "accuracy_score(y_test, y_pred)\n",
    "loaded_vec =CountVectorizer(decode_error=\"replace\",vocabulary=pickle.load(open(\"cf19.pkl\", \"rb\")))\n",
    "da=\"\"\n",
    "da=da.split(\"delimiter\")\n",
    "result= model.predict(loaded_vec.transform(da))\n"
   ]
  },
  {
   "cell_type": "markdown",
   "metadata": {},
   "source": [
    "# predictions"
   ]
  },
  {
   "cell_type": "code",
   "execution_count": 16,
   "metadata": {},
   "outputs": [
    {
     "name": "stdout",
     "output_type": "stream",
     "text": [
      "The expression has positive expression\n"
     ]
    }
   ],
   "source": [
    "r=model.predict(cv.transform([\"@babymakinmachin thank for the shout out!   Did you ever find a good flight?\"]))\n",
    "if r>0.5:\n",
    "    print(\"The expression has positive expression\")\n",
    "else:\n",
    "    print(\"The expression has negative expression\")"
   ]
  }
 ],
 "metadata": {
  "kernelspec": {
   "display_name": "Python 3",
   "language": "python",
   "name": "python3"
  },
  "language_info": {
   "codemirror_mode": {
    "name": "ipython",
    "version": 3
   },
   "file_extension": ".py",
   "mimetype": "text/x-python",
   "name": "python",
   "nbconvert_exporter": "python",
   "pygments_lexer": "ipython3",
   "version": "3.6.10"
  }
 },
 "nbformat": 4,
 "nbformat_minor": 4
}
